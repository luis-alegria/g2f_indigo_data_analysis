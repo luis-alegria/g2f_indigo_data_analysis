{
 "cells": [
  {
   "cell_type": "code",
   "execution_count": 31,
   "id": "0c178667",
   "metadata": {},
   "outputs": [],
   "source": [
    "import pandas as pd\n"
   ]
  },
  {
   "cell_type": "code",
   "execution_count": 32,
   "id": "7b9b4d9b",
   "metadata": {},
   "outputs": [],
   "source": [
    "reads = pd.read_csv('./combined_species_mpa.txt', sep='\\t')"
   ]
  },
  {
   "cell_type": "code",
   "execution_count": 33,
   "id": "212b238a",
   "metadata": {},
   "outputs": [
    {
     "data": {
      "text/plain": [
       "(2438, 74)"
      ]
     },
     "execution_count": 33,
     "metadata": {},
     "output_type": "execute_result"
    }
   ],
   "source": [
    "reads.shape"
   ]
  },
  {
   "cell_type": "code",
   "execution_count": 34,
   "id": "449fd8df",
   "metadata": {},
   "outputs": [
    {
     "data": {
      "text/html": [
       "<div>\n",
       "<style scoped>\n",
       "    .dataframe tbody tr th:only-of-type {\n",
       "        vertical-align: middle;\n",
       "    }\n",
       "\n",
       "    .dataframe tbody tr th {\n",
       "        vertical-align: top;\n",
       "    }\n",
       "\n",
       "    .dataframe thead th {\n",
       "        text-align: right;\n",
       "    }\n",
       "</style>\n",
       "<table border=\"1\" class=\"dataframe\">\n",
       "  <thead>\n",
       "    <tr style=\"text-align: right;\">\n",
       "      <th></th>\n",
       "      <th>#Classification</th>\n",
       "      <th>sample12835</th>\n",
       "      <th>sample12836</th>\n",
       "      <th>sample12837</th>\n",
       "      <th>sample12838</th>\n",
       "      <th>sample12839</th>\n",
       "      <th>sample12840</th>\n",
       "      <th>sample12841</th>\n",
       "      <th>sample12842</th>\n",
       "      <th>sample12843</th>\n",
       "      <th>...</th>\n",
       "      <th>sample6615</th>\n",
       "      <th>sample6616</th>\n",
       "      <th>sample6617</th>\n",
       "      <th>sample6618</th>\n",
       "      <th>sample6619</th>\n",
       "      <th>sample6620</th>\n",
       "      <th>sample6621</th>\n",
       "      <th>sample6622</th>\n",
       "      <th>sample6623</th>\n",
       "      <th>sample6624</th>\n",
       "    </tr>\n",
       "  </thead>\n",
       "  <tbody>\n",
       "    <tr>\n",
       "      <th>0</th>\n",
       "      <td>Atribacter_laminatus</td>\n",
       "      <td>0</td>\n",
       "      <td>0</td>\n",
       "      <td>0</td>\n",
       "      <td>0</td>\n",
       "      <td>0</td>\n",
       "      <td>0</td>\n",
       "      <td>0</td>\n",
       "      <td>0</td>\n",
       "      <td>0</td>\n",
       "      <td>...</td>\n",
       "      <td>0</td>\n",
       "      <td>0</td>\n",
       "      <td>0</td>\n",
       "      <td>0</td>\n",
       "      <td>0</td>\n",
       "      <td>0</td>\n",
       "      <td>0</td>\n",
       "      <td>0</td>\n",
       "      <td>0</td>\n",
       "      <td>0</td>\n",
       "    </tr>\n",
       "    <tr>\n",
       "      <th>1</th>\n",
       "      <td>Fidelibacter_multiformis</td>\n",
       "      <td>0</td>\n",
       "      <td>0</td>\n",
       "      <td>0</td>\n",
       "      <td>0</td>\n",
       "      <td>0</td>\n",
       "      <td>0</td>\n",
       "      <td>0</td>\n",
       "      <td>0</td>\n",
       "      <td>0</td>\n",
       "      <td>...</td>\n",
       "      <td>0</td>\n",
       "      <td>0</td>\n",
       "      <td>0</td>\n",
       "      <td>0</td>\n",
       "      <td>0</td>\n",
       "      <td>0</td>\n",
       "      <td>0</td>\n",
       "      <td>0</td>\n",
       "      <td>0</td>\n",
       "      <td>0</td>\n",
       "    </tr>\n",
       "    <tr>\n",
       "      <th>2</th>\n",
       "      <td>Candidatus_Cloacimonas_acidaminovorans</td>\n",
       "      <td>0</td>\n",
       "      <td>0</td>\n",
       "      <td>0</td>\n",
       "      <td>0</td>\n",
       "      <td>0</td>\n",
       "      <td>0</td>\n",
       "      <td>0</td>\n",
       "      <td>0</td>\n",
       "      <td>0</td>\n",
       "      <td>...</td>\n",
       "      <td>0</td>\n",
       "      <td>0</td>\n",
       "      <td>0</td>\n",
       "      <td>0</td>\n",
       "      <td>0</td>\n",
       "      <td>0</td>\n",
       "      <td>0</td>\n",
       "      <td>0</td>\n",
       "      <td>0</td>\n",
       "      <td>0</td>\n",
       "    </tr>\n",
       "    <tr>\n",
       "      <th>3</th>\n",
       "      <td>Caldithrix_abyssi</td>\n",
       "      <td>0</td>\n",
       "      <td>0</td>\n",
       "      <td>0</td>\n",
       "      <td>0</td>\n",
       "      <td>0</td>\n",
       "      <td>0</td>\n",
       "      <td>0</td>\n",
       "      <td>0</td>\n",
       "      <td>0</td>\n",
       "      <td>...</td>\n",
       "      <td>0</td>\n",
       "      <td>0</td>\n",
       "      <td>0</td>\n",
       "      <td>0</td>\n",
       "      <td>0</td>\n",
       "      <td>0</td>\n",
       "      <td>0</td>\n",
       "      <td>0</td>\n",
       "      <td>0</td>\n",
       "      <td>0</td>\n",
       "    </tr>\n",
       "    <tr>\n",
       "      <th>4</th>\n",
       "      <td>Sphaerobacter_thermophilus</td>\n",
       "      <td>0</td>\n",
       "      <td>0</td>\n",
       "      <td>0</td>\n",
       "      <td>0</td>\n",
       "      <td>0</td>\n",
       "      <td>0</td>\n",
       "      <td>0</td>\n",
       "      <td>0</td>\n",
       "      <td>0</td>\n",
       "      <td>...</td>\n",
       "      <td>0</td>\n",
       "      <td>0</td>\n",
       "      <td>0</td>\n",
       "      <td>0</td>\n",
       "      <td>0</td>\n",
       "      <td>0</td>\n",
       "      <td>0</td>\n",
       "      <td>0</td>\n",
       "      <td>0</td>\n",
       "      <td>0</td>\n",
       "    </tr>\n",
       "  </tbody>\n",
       "</table>\n",
       "<p>5 rows × 74 columns</p>\n",
       "</div>"
      ],
      "text/plain": [
       "                          #Classification  sample12835  sample12836  \\\n",
       "0                    Atribacter_laminatus            0            0   \n",
       "1                Fidelibacter_multiformis            0            0   \n",
       "2  Candidatus_Cloacimonas_acidaminovorans            0            0   \n",
       "3                       Caldithrix_abyssi            0            0   \n",
       "4              Sphaerobacter_thermophilus            0            0   \n",
       "\n",
       "   sample12837  sample12838  sample12839  sample12840  sample12841  \\\n",
       "0            0            0            0            0            0   \n",
       "1            0            0            0            0            0   \n",
       "2            0            0            0            0            0   \n",
       "3            0            0            0            0            0   \n",
       "4            0            0            0            0            0   \n",
       "\n",
       "   sample12842  sample12843  ...  sample6615  sample6616  sample6617  \\\n",
       "0            0            0  ...           0           0           0   \n",
       "1            0            0  ...           0           0           0   \n",
       "2            0            0  ...           0           0           0   \n",
       "3            0            0  ...           0           0           0   \n",
       "4            0            0  ...           0           0           0   \n",
       "\n",
       "   sample6618  sample6619  sample6620  sample6621  sample6622  sample6623  \\\n",
       "0           0           0           0           0           0           0   \n",
       "1           0           0           0           0           0           0   \n",
       "2           0           0           0           0           0           0   \n",
       "3           0           0           0           0           0           0   \n",
       "4           0           0           0           0           0           0   \n",
       "\n",
       "   sample6624  \n",
       "0           0  \n",
       "1           0  \n",
       "2           0  \n",
       "3           0  \n",
       "4           0  \n",
       "\n",
       "[5 rows x 74 columns]"
      ]
     },
     "execution_count": 34,
     "metadata": {},
     "output_type": "execute_result"
    }
   ],
   "source": [
    "reads.head(5)"
   ]
  },
  {
   "cell_type": "code",
   "execution_count": 35,
   "id": "aea13b08",
   "metadata": {},
   "outputs": [],
   "source": [
    "species  = reads.iloc[:, 0]"
   ]
  },
  {
   "cell_type": "code",
   "execution_count": 36,
   "id": "5185a9c1",
   "metadata": {},
   "outputs": [
    {
     "data": {
      "text/plain": [
       "str"
      ]
     },
     "execution_count": 36,
     "metadata": {},
     "output_type": "execute_result"
    }
   ],
   "source": [
    "type(species.iloc[0])"
   ]
  },
  {
   "cell_type": "code",
   "execution_count": 37,
   "id": "2bd34aa6",
   "metadata": {},
   "outputs": [
    {
     "data": {
      "text/plain": [
       "933               [Haemophilus]_ducreyi\n",
       "1635             [Clostridium]_scindens\n",
       "1657              [Clostridium]_colinum\n",
       "2044           [Actinomadura]_parvosata\n",
       "2190    [Mycobacterium]_stephanolepidis\n",
       "Name: #Classification, dtype: object"
      ]
     },
     "execution_count": 37,
     "metadata": {},
     "output_type": "execute_result"
    }
   ],
   "source": [
    "species[species.str.match(r'\\[')]"
   ]
  },
  {
   "cell_type": "code",
   "execution_count": null,
   "id": "921c5653",
   "metadata": {},
   "outputs": [],
   "source": [
    "# Replace [ or ] with empty string\n",
    "# Replace _ with space"
   ]
  }
 ],
 "metadata": {
  "kernelspec": {
   "display_name": "python_env",
   "language": "python",
   "name": "python3"
  },
  "language_info": {
   "codemirror_mode": {
    "name": "ipython",
    "version": 3
   },
   "file_extension": ".py",
   "mimetype": "text/x-python",
   "name": "python",
   "nbconvert_exporter": "python",
   "pygments_lexer": "ipython3",
   "version": "3.13.2"
  }
 },
 "nbformat": 4,
 "nbformat_minor": 5
}
